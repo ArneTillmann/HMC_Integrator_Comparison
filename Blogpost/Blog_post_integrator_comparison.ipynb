{
 "cells": [
  {
   "cell_type": "markdown",
   "id": "lonely-commodity",
   "metadata": {},
   "source": [
    "# Comparing two integrators in the usecase of HMC"
   ]
  },
  {
   "cell_type": "markdown",
   "id": "played-acquisition",
   "metadata": {},
   "source": [
    "In this blog post we will compare the performance of two different integrators, sampling with Hamiltonian Monte Carlo (HMC). In HMC, the classical Leapfrog is still the state of the art method to generate new proposal states for the Metropolis Hastings algorythm. In [this paper](https://arxiv.org/pdf/2007.05308.pdf) Jun Hao Hue et al. benchmark the performance of the Leapfrog and U7, which was first presented by Thanh Tri Chau et al [2018 New J. Phys. 20 073003](https://iopscience.iop.org/article/10.1088/1367-2630/aacde1/pdf), against various classical and quantum systems, but not against sampling methods used in HMC.\n",
    "This blog post aims to give you first a brief introduction to HMC, then describes formally the two integrators and then numerically evaluates their performance. In case you are new to HMC or MCMC methods, a good starting point might be the [series of blog posts](https://www.tweag.io/blog/2019-10-25-mcmc-intro1/) by Simeon Carstens. "
   ]
  },
  {
   "cell_type": "markdown",
   "id": "24c48420",
   "metadata": {},
   "source": [
    "# Introduction\n"
   ]
  },
  {
   "cell_type": "markdown",
   "id": "d5ba5399",
   "metadata": {},
   "source": [
    "Broadly speaking, the idea of HMC is, that given a previous state $x$ of our markov chain, we draw a random momentum $v$ from a normal distribution and simulate the behaviour of a fictive particle with starting point $(x,v)$. This intuition makes sense, because our probability density gives rise to a potential energy and vice versa \\fotenote Simeons_blog_post. This deterministic behaviour is simulated for some fixed time $t$. The final state $(x^\\star, v^\\star)$ of the particle after some time t will then serve as the new proposal state of the Metropolis-Hastings algorithm."
   ]
  },
  {
   "cell_type": "markdown",
   "id": "ad756bc0",
   "metadata": {},
   "source": [
    "You might wonder, why we can draw the initial momentum $v$ from a normal distribution. You can check yourself, if you have a closer look at the joint probability distribution"
   ]
  },
  {
   "cell_type": "markdown",
   "id": "74d78335",
   "metadata": {},
   "source": [
    "$$\n",
    "\\begin{align}\n",
    " p(x,v) \\propto & \\,\\exp \\{-H(x,v)\\} \\\\\n",
    "= & \\,\\exp \\{-K(v)\\} \\times \\exp \\{-E(x)\\}\\\\\n",
    " =& \\,\\exp \\{-\\frac{|v|^2}{2} \\} \\times p(x).\n",
    "\\end{align}\n",
    "$$"
   ]
  },
  {
   "cell_type": "markdown",
   "id": "a5823b66",
   "metadata": {},
   "source": [
    "Since we just multiply the two densities for $x$ and $v$, by definition, the two variables are independent from each other, therefore we can just sample $v$ independently of $x$. Moreover, you can see that the marginal distribution of $v$ is just the normal distribution up to some constant ($\\propto$ means, that $A\\propto B \\iff A = kB$ for an abritrary $k$)."
   ]
  },
  {
   "cell_type": "markdown",
   "id": "4627a7a0",
   "metadata": {},
   "source": [
    "The Hamiltonian is then given by $$H(x,v) = K(v) + E(x).$$ Usually the Hamiltonian does not need to be of the form kinetic energy plus potential energy (seperable), but it certainly makes things a lot easier and is a reasonable assumption for most usecases arising from Bayesian statistics and beyond. In fact, you can actually apply splitting methods, which we will do in the following, to nonseperable Hamiltonians as well, though some more math will be necessary. "
   ]
  },
  {
   "cell_type": "markdown",
   "id": "12e89fb6",
   "metadata": {},
   "source": [
    "As mentioned aboved, the key concept of the HMC method is to simulate the fictive particle's dynamics. In terms of the Hamiltonian formalism, this is done by solving a set of differential equations, namely\n"
   ]
  },
  {
   "cell_type": "markdown",
   "id": "e60ec9fc",
   "metadata": {},
   "source": [
    "$$\\frac{dx}{dt} = \\frac{\\partial H }{\\partial v}, \\hspace{15pt} \\frac{dv}{dt}= -\\frac{\\partial H }{\\partial x}$$"
   ]
  },
  {
   "cell_type": "markdown",
   "id": "d0627045",
   "metadata": {},
   "source": [
    "<!-- \n",
    "This system of coupled differential equations is formally solved by\n",
    "-->\n",
    "comment"
   ]
  },
  {
   "cell_type": "markdown",
   "id": "4ecaf9f6",
   "metadata": {},
   "source": [
    "<!--\n",
    "\\begin{equation}\n",
    "\\begin{pmatrix}x \\\\v\\end{pmatrix} = e^{-tH_v} \\begin{pmatrix}x \\\\v\\end{pmatrix} ,\n",
    "\\end{equation}\n",
    "\n",
    "-->\n",
    "comment"
   ]
  },
  {
   "cell_type": "markdown",
   "id": "3889f0a9",
   "metadata": {},
   "source": [
    "<!--\n",
    "where we define $H_v=\\frac{\\partial H}{\\partial x}\\frac{\\partial}{\\partial v}-\\frac{\\partial H}{\\partial v}\\frac{\\partial}{\\partial x}.$\n",
    "-->\n",
    "comment"
   ]
  },
  {
   "cell_type": "markdown",
   "id": "325d59bf",
   "metadata": {},
   "source": [
    "The notation can be simplified by introducing $z=(x,v)$. Then the Hamiltonian equations of motion can be rewritten in a single expression as "
   ]
  },
  {
   "cell_type": "markdown",
   "id": "84712dd7",
   "metadata": {},
   "source": [
    "$$\\dot{z} = \\begin{pmatrix}\\dot x \\\\ \\dot v\\end{pmatrix} = \\begin{pmatrix}\\frac{\\partial H }{\\partial v} \\\\ -\\frac{\\partial H }{\\partial x}\\end{pmatrix} = \\{z,H(z)\\}$$"
   ]
  },
  {
   "cell_type": "markdown",
   "id": "95440b48",
   "metadata": {},
   "source": [
    "where $\\{\\cdot, \\cdot \\}$ is the Poisson bracket https://en.wikipedia.org/wiki/Poisson_bracket in canonical coordinates. Furthermore, by introducing an operator $D_{H\\cdot} = \\{ \\cdot, H \\}$, the equation can be further simplified to "
   ]
  },
  {
   "cell_type": "markdown",
   "id": "592b57c4",
   "metadata": {},
   "source": [
    "$$\\dot z = D_H z$$"
   ]
  },
  {
   "cell_type": "markdown",
   "id": "e1a039b2",
   "metadata": {},
   "source": [
    "and is solved by"
   ]
  },
  {
   "cell_type": "markdown",
   "id": "4cd75621",
   "metadata": {},
   "source": [
    " $$z(t) = \\exp ( t D_H) z(0) = \\exp ( t(D_K + D_E)) z(0).$$ "
   ]
  },
  {
   "cell_type": "markdown",
   "id": "6715ba78",
   "metadata": {},
   "source": [
    "Note that $D_K$ and $D_E$ stand respectivly for the operators $\\{ \\cdot, K \\}$ and $\\{ \\cdot, E \\}.$"
   ]
  },
  {
   "cell_type": "markdown",
   "id": "7834a746",
   "metadata": {},
   "source": [
    "In general, the solution depends highly on the potential energy (which translates to the posterior distribution in the Bayesian setting) and can therefore be infeasable. "
   ]
  },
  {
   "cell_type": "markdown",
   "id": "alone-johnston",
   "metadata": {},
   "source": [
    "#### But wait!"
   ]
  },
  {
   "cell_type": "markdown",
   "id": "e8eca650",
   "metadata": {},
   "source": [
    "<!--\n",
    "I dont want to loose any of you right on the spot, just because I used the term differential equation. It is actually much simpler than that, so don't worry. Just let me show you one simple remarkable result.\n",
    "-->\n",
    "footnote"
   ]
  },
  {
   "cell_type": "markdown",
   "id": "5f0bc8c2",
   "metadata": {},
   "source": [
    "<!--\n",
    "In our case of the seperable Hamiltonian, we can rewrite the differential equations, by just using the terms, that are actually dependend on the variable, we want to take the derivativ of, so\n",
    "$$\\frac{dx}{dt} = \\frac{\\partial}{\\partial v} K(v) = \\frac{v}{m}, \\hspace{15pt} \\frac{dv}{dt}= -\\frac{\\partial}{\\partial x} E(x).$$\n",
    "-->footnote\n"
   ]
  },
  {
   "cell_type": "markdown",
   "id": "c4e49d74",
   "metadata": {},
   "source": [
    "<!--\n",
    "This might look already much more familiar to you. Just multiply the left equation with m and take once more the derivate with respect to $t$ gives us $m\\frac{d^2x}{dt^2}  = \\frac{dv}{dt}.$ This then plugt into the second equation \n",
    "$$m\\frac{d^2x}{dt^2}  = \\frac{dv}{dt} = -\\frac{\\partial}{\\partial x} E(x) = F$$\n",
    "leaves us with Newton's beautiful second law of motion.\n",
    "-->\n",
    "footenote"
   ]
  },
  {
   "cell_type": "markdown",
   "id": "ae052d18",
   "metadata": {},
   "source": [
    "## Splitting methods"
   ]
  },
  {
   "cell_type": "markdown",
   "id": "57e02a39",
   "metadata": {},
   "source": [
    "In 1995 Suzuki http://people.ucalgary.ca/~dfeder/535/suzuki.pdf proposed a new way to approximate expressions such as the solution of the Hamiltonian equations,"
   ]
  },
  {
   "cell_type": "markdown",
   "id": "80732a2e",
   "metadata": {},
   "source": [
    "$$\\exp ( t(D_K + D_E)) = \\prod_{i=1}^k \\exp (c_i t D_K) \\exp (d_i t D_E) + \\cal{O}(t^{k+1}),$$"
   ]
  },
  {
   "cell_type": "markdown",
   "id": "e6f78b29",
   "metadata": {},
   "source": [
    "where $\\Sigma_{i=1}^k c_i = \\Sigma_{i=1}^k d_i =1.$"
   ]
  },
  {
   "cell_type": "markdown",
   "id": "d1b2c2ec",
   "metadata": {},
   "source": [
    "Each of the factors $\\exp (c_i t D_K)$ will correspond to an update of the state $x$ and similarly $\\exp (c_i t D_E)$ can be translated to an update of the momentum $v.$ https://en.wikipedia.org/wiki/Symplectic_integrator"
   ]
  },
  {
   "cell_type": "markdown",
   "id": "e4b1717f",
   "metadata": {},
   "source": [
    "Imagine $(x^\\star,v^\\star)$ would be the exact solution after time $t$ and $(x_{t},v_{t})$ an approximation, then we would say, that the approximation is of n-th order and write $\\mathcal{O}(t^n)$, if $||(x^\\star,v^\\star)-(x_{t},v_{t})||\\leq C * t^n$ and $C$ is independend of the $t.$"
   ]
  },
  {
   "cell_type": "markdown",
   "id": "89e98fe4",
   "metadata": {},
   "source": [
    "Now, that we know how to come up with an approximation of the solution of the Hamiltonian equations, lets give a first example of one approximative algorythm:"
   ]
  },
  {
   "cell_type": "markdown",
   "id": "93355b83",
   "metadata": {},
   "source": [
    "## The Leapfrog\n",
    "\n",
    "<!-- \n",
    "For now, let's come back to our fictive particle. As so often the differential eqaution is actually not always analytically tractable and so we need a way to approximate the behaviour of our fictive particle. And this is where the leapfrog method comes into play. \n",
    "--> \n",
    "The intuition is, that we update the space coordinate $x$ and the momentum variable $v$ one after an other multiple times, which is the behaviour, where the name comes from.\n"
   ]
  },
  {
   "cell_type": "markdown",
   "id": "8f5dbdf1",
   "metadata": {},
   "source": [
    "![](Leapfrog.gif)"
   ]
  },
  {
   "cell_type": "markdown",
   "id": "cf368e52",
   "metadata": {},
   "source": [
    "More rigorously, the updates look like the following,\n",
    "$$x_{i+1}= x_n +   v_{i + 1/2} \\Delta t$$\n",
    "$$v_{i + 3/2} = v_{i+1/2} + \\left(-\\frac{\\partial}{\\partial x} E(x_{i+1})\\right) \\Delta t$$"
   ]
  },
  {
   "cell_type": "markdown",
   "id": "11298186",
   "metadata": {},
   "source": [
    "As you might have noticed, you need to perform half a step for the momentum in the beginning and the end. \n",
    "So in terms of Suzuki, the Leapfrog looks like this"
   ]
  },
  {
   "cell_type": "markdown",
   "id": "79fa5cd8",
   "metadata": {},
   "source": [
    "$$\\text{Leapfrog} =  U3 U3 U3 \\cdots U3, $$"
   ]
  },
  {
   "cell_type": "markdown",
   "id": "f14cd562",
   "metadata": {},
   "source": [
    "$$\\text{where } U_3 = \\exp (\\frac {1}{2}t D_E)\\exp (t D_K)\\exp (\\frac {1}{2}t D_E).$$"
   ]
  },
  {
   "cell_type": "markdown",
   "id": "f4b3ce25",
   "metadata": {},
   "source": [
    "The coefficients are $c_1 = 0,\\, c_2 = 1,\\, d_1=d_2 = \\frac{1}{2}.$"
   ]
  },
  {
   "cell_type": "markdown",
   "id": "4511ca64",
   "metadata": {},
   "source": [
    "If we further devide our time $t$ into $t = stepsize * trajectory\\_length$ and apply the Suzuki aproximation $U3$ $trajectory\\_length$-times, then a small function, approximating the desired behaviour for some time $t$, would have the following look:"
   ]
  },
  {
   "cell_type": "code",
   "execution_count": 2,
   "id": "8d1cf29e",
   "metadata": {},
   "outputs": [],
   "source": [
    "def integrate(x, v):\n",
    "\n",
    "    v += 1./2 * stepsize * -gradient_pot_energy(x)\n",
    "\n",
    "    for i in range(trajectory_length-1):\n",
    "        x += stepsize * v\n",
    "        v += stepsize * gradient_pot_energy(x)\n",
    "\n",
    "    x += stepsize * v\n",
    "    v += 1./2 * stepsize * gradient_pot_energy(x)\n",
    "\n",
    "    return x, v"
   ]
  },
  {
   "cell_type": "markdown",
   "id": "1b90d16f",
   "metadata": {},
   "source": [
    "You might wonder, why should we look further, if we have found a sufficiently exact approximation of what we desired. We can always deminish the error by shortening the $stepsize$ and increasing the $trajectory\\_length.$"
   ]
  },
  {
   "cell_type": "markdown",
   "id": "03f19d42",
   "metadata": {},
   "source": [
    "Well, one answer might simply be, what if there is a more efficient way. But secondly, the Leapfrog is already not exact even for constant momentum $v$, $- \\nabla E = \\text{const.}$"
   ]
  },
  {
   "cell_type": "markdown",
   "id": "1628ab45",
   "metadata": {},
   "source": [
    "Evolutionary, that is why first a five factor approximation was considered by https://arxiv.org/pdf/1709.01719.pdf. Unfortunately this approximation has still error terms of third order. And this in turn was reason for the development of:"
   ]
  },
  {
   "cell_type": "markdown",
   "id": "8c60499f",
   "metadata": {},
   "source": [
    "## The U7"
   ]
  },
  {
   "cell_type": "markdown",
   "id": "03181509",
   "metadata": {},
   "source": [
    "The novelty of the U7 consists of the usage of the second order derivative of the potential energy. This comes along with a few more updates of $x$ and $v$ per step and yields to a lower error. "
   ]
  },
  {
   "cell_type": "markdown",
   "id": "854e78e6",
   "metadata": {},
   "source": [
    "<!--\n",
    "Let me try, to give you an intuition in what way the second derivative (Hessian) is used. First lets have a closer look on the Leapfrog. As shown in the illustration above, you can think of the small lower index for $x$ and $v$ as the time. Now, lets say, we want to update the postition $x_i$ to $x_{i+1}$ next. We would use the previously calculated momentum $v_{i+1/2}$, which you can think of as the momentum of the particle at time $i+1/2$. To update the momentum, we have used the gradient of the potential energy at position $x_i$. The point is, that we want the momentum at time $i+1/2$, but use the position of the particle at time $i$ to update it. So instead, the U7 takes the position at time $i$ and adds to it somfou\n",
    "-->\n",
    "comment\n"
   ]
  },
  {
   "cell_type": "markdown",
   "id": "8d88a879",
   "metadata": {},
   "source": [
    "Concretly, the $U7$, as the name suggests, is originally a seven factor approximation, but uses a special property https://en.wikipedia.org/wiki/Baker%E2%80%93Campbell%E2%80%93Hausdorff_formula, which reduces three factors to one, making it a five factor approximation, but remains an accuracy with error $\\cal{O}(t^5)$ order. This newly formed term includs the second order derivative as mentioned above."
   ]
  },
  {
   "cell_type": "markdown",
   "id": "a6192743",
   "metadata": {},
   "source": [
    "The Suzuki formula for the $U7$ is given by"
   ]
  },
  {
   "cell_type": "markdown",
   "id": "b7d38549",
   "metadata": {},
   "source": [
    "$$U7 = \\exp (\\frac {1}{6}t D_E)\\exp (\\frac {1}{2}t D_K)\\exp (\\frac {2}{3}t D_\\tilde{V})\\exp ( \\frac {1}{2}t D_K)\\exp (\\frac {1}{6}t D_E),$$"
   ]
  },
  {
   "cell_type": "markdown",
   "id": "b65a8c7e",
   "metadata": {},
   "source": [
    "whereas $D_\\tilde V = \\{\\cdot , V - \\frac{1}{48}[t\\nabla V ]^2\\}$"
   ]
  },
  {
   "cell_type": "markdown",
   "id": "bee908c6",
   "metadata": {},
   "source": [
    "<!-- One interesting remark is that, for symmetric approximations, $U(t)U(-t) = 1$, the error terms can't be of even order since then, intuitively speaking, the error would point in the same direction, because $t^{2n} = (-t)^{2n}$.\n",
    "--> footnote\n"
   ]
  },
  {
   "cell_type": "markdown",
   "id": "44743dee",
   "metadata": {},
   "source": [
    "<!--\n",
    "This quantum mechanical algorythm has a quite simple representation in classical mechanics. Since $D_K^2 z = \\{\\{z,K\\}K\\} = \\{(\\dot  q, 0), K  \\} = (0,0)$ and $\\exp (a D_K) = \\Sigma_{n=0}^{\\infty} \\frac{(a D_K)^n}{n!} = 1+ aD_K$, that makes $\\exp(\\beta_i t D_K)$ the mapping \n",
    "-->\n",
    "comment"
   ]
  },
  {
   "cell_type": "markdown",
   "id": "0d2754e0",
   "metadata": {},
   "source": [
    "<!--\n",
    "$$\\begin{pmatrix}x \\\\v\\end{pmatrix} \\mapsto \\begin{pmatrix}x + t \\beta_i \\frac{\\partial K}{\\partial p} (p)\\\\v\\end{pmatrix}$$\n",
    "-->\n",
    "comment"
   ]
  },
  {
   "cell_type": "markdown",
   "id": "4353993e",
   "metadata": {},
   "source": [
    "A simplified python method of the algorythm described above would look like this:"
   ]
  },
  {
   "cell_type": "code",
   "execution_count": 6,
   "id": "ba479f63",
   "metadata": {},
   "outputs": [],
   "source": [
    "def integrate(x, v):\n",
    "\n",
    "    v += 1./6 * stepsize * gradient_pot_energy(x)\n",
    "\n",
    "    for i in range(trajectory_length-1):\n",
    "        x += 1./2 * v * stepsize\n",
    "        v += (2./3 * stepsize * (gradient_pot_energy(x)\n",
    "            + stepsize**2./24\n",
    "            * np.matmul(hessian_log_prog(x),gradient_pot_energy(x))))\n",
    "        x += 1./2 * v * stepsize\n",
    "        v += 1./3 * stepsize * gradient_pot_energy(x)\n",
    "\n",
    "    x += 1./2 * v * stepsize\n",
    "    v += (2./3 * stepsize * (gradient_pot_energy(x)\n",
    "        + stepsize**2./24\n",
    "        * np.matmul(hessian_log_prog(x),gradient_pot_energy(x))))\n",
    "    x += 1./2 * v * stepsize\n",
    "    v += 1./6 * stepsize * gradient_pot_energy(x)\n",
    "\n",
    "    return x, v"
   ]
  },
  {
   "cell_type": "markdown",
   "id": "a652c078",
   "metadata": {},
   "source": [
    "Bare in mind, that the higher accuracy, achieved with the U7, comes along with a non-negalectable, additional computational cost. "
   ]
  },
  {
   "cell_type": "markdown",
   "id": "certain-standing",
   "metadata": {},
   "source": [
    "Note also, the longer the stepsize, the larger the error and the less likely the acceptance of the proposed state for the MCMC algorythm."
   ]
  },
  {
   "cell_type": "markdown",
   "id": "negative-chicago",
   "metadata": {},
   "source": [
    "## Comparison \n"
   ]
  },
  {
   "cell_type": "markdown",
   "id": "2949af1f",
   "metadata": {},
   "source": [
    "As mentioned in the beginning, our goal was, to compare the leapfrog with the U7 to draw samples from a probability distribution. For this purpose we chose two different toy examples and two methods of convergence diagnostics to measure the fit of the drawn samples. "
   ]
  },
  {
   "cell_type": "markdown",
   "id": "e704e9cb",
   "metadata": {},
   "source": [
    "The first example is a 100 dimensional standard normal distribution. We fixed the time to 10 and plotted the acceptance rate for different stepsizes against each other. The expected higher acceptance rate, due to a better approximation of the deterministic behaviour, can easily be observed. "
   ]
  },
  {
   "cell_type": "markdown",
   "id": "66a6762a",
   "metadata": {},
   "source": [
    "![title](Figure_2.png)"
   ]
  },
  {
   "cell_type": "markdown",
   "id": "b06a2861",
   "metadata": {},
   "source": [
    "Unexpected peak at stepsize 1,5 might be explained by the hidden hamiltonian, but we could not figure out for sure, why this is the case. "
   ]
  },
  {
   "cell_type": "markdown",
   "id": "5e8c2c9c",
   "metadata": {},
   "source": [
    "summary: hessian sparse Zeitgewinn"
   ]
  }
 ],
 "metadata": {
  "kernelspec": {
   "display_name": "Python 3",
   "language": "python",
   "name": "python3"
  },
  "language_info": {
   "codemirror_mode": {
    "name": "ipython",
    "version": 3
   },
   "file_extension": ".py",
   "mimetype": "text/x-python",
   "name": "python",
   "nbconvert_exporter": "python",
   "pygments_lexer": "ipython3",
   "version": "3.8.5"
  }
 },
 "nbformat": 4,
 "nbformat_minor": 5
}
